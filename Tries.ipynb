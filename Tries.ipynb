{
  "cells": [
    {
      "cell_type": "markdown",
      "metadata": {
        "id": "ASMjLrYHKdrD"
      },
      "source": [
        "### Thought experiment:\n",
        "*How would you implement a spell check function?*"
      ]
    },
    {
      "cell_type": "code",
      "execution_count": null,
      "metadata": {
        "id": "jBz8HtOVKmWe"
      },
      "outputs": [],
      "source": [
        "...Binary search tree: load a dictionary of correctly-spelled words—each node is a word\n",
        "If word is not found, it is misspelled. Traverse BST for matching prefixes to form suggestions.\n",
        "\n",
        "Trie: stores dynamic sets of strings, allows for efficient prefix-based spellcheck.\n",
        "Traverse trie based on characters. If there is a valid path, it is spelled right. Prune branches that cannot lead to vaild words. 26 pointers per node unless pruned.\n"
      ]
    },
    {
      "cell_type": "markdown",
      "metadata": {
        "id": "u82sNSItvr4x"
      },
      "source": [
        "# Tries:\n",
        "\n",
        "- unbounded tree\n",
        "- paths are significant, and used for **word/prefix validation**\n",
        "- each node contains a character as well as a boolean variable indicating whether that character represents the end of a complete word (rather than just a prefix)\n",
        "- **prefix:** a path in the Trie with one or more possible word-endings\n",
        "\n",
        "[5 min video overview of the basic ideas](https://youtu.be/zIjfhVPRZCg?si=bkxW74HCdObv5C7g)\n",
        "\n",
        "### To do:\n",
        "- *Add comments or a docstring to the insert method, explaining how the code works.*\n",
        "- *Then finish implementing search and starts_with methods.*\n",
        "- *Come up with your own word-validation function that uses Tries.*"
      ]
    },
    {
      "cell_type": "code",
      "execution_count": 11,
      "metadata": {
        "id": "-Qma3E72x74q"
      },
      "outputs": [],
      "source": [
        "class TrieNode:\n",
        "    def __init__(self):\n",
        "        # characters are stored as keys in a dictionary (value is a TrieNode)\n",
        "        self.children = {}\n",
        "        self.is_complete = False\n",
        "\n",
        "class Trie:\n",
        "    def __init__(self):\n",
        "        self.root = TrieNode()\n",
        "\n",
        "    def insert(self, word):\n",
        "        current = self.root\n",
        "        for char in word:\n",
        "            if char not in current.children:\n",
        "                current.children[char] = TrieNode()\n",
        "            current = current.children[char]\n",
        "        current.is_complete = True\n",
        "\n",
        "    def search(self, word):\n",
        "        current = self.root\n",
        "\n",
        "        # for each character, check whether a path exists\n",
        "        for char in word:\n",
        "            if char not in current.children:\n",
        "                return False\n",
        "\n",
        "            # update current to be the node mapped to char in children\n",
        "            current = current.children[char]\n",
        "\n",
        "        # return True if the word has been found *and* is complete\n",
        "        return current.is_complete\n",
        "\n",
        "    def starts_with(self, prefix):\n",
        "        current = self.root\n",
        "        for char in prefix:\n",
        "            if char not in current.children:\n",
        "                return False\n",
        "            \n",
        "            current = current.children[char]\n",
        "\n",
        "        return True"
      ]
    },
    {
      "cell_type": "code",
      "execution_count": 17,
      "metadata": {},
      "outputs": [],
      "source": [
        "def word_validation(word, trie):\n",
        "    return trie.search(word.lower())  # all words need to be lowercase in the trie"
      ]
    },
    {
      "cell_type": "code",
      "execution_count": 15,
      "metadata": {
        "id": "JiuOQEl1uDl7"
      },
      "outputs": [],
      "source": [
        "trie = Trie()\n",
        "trie.insert(\"apple\")\n",
        "trie.insert(\"banana\")\n",
        "trie.insert(\"oranges\")\n",
        "\n",
        "assert(trie.search(\"apple\"))\n",
        "assert(trie.search(\"banana\"))\n",
        "assert(trie.search(\"oranges\"))\n",
        "assert(not trie.search(\"grapefruit\"))\n",
        "assert(trie.starts_with(\"app\"))\n",
        "assert(trie.starts_with(\"ban\"))\n",
        "assert(trie.starts_with(\"ora\"))\n",
        "assert(not trie.starts_with(\"grape\"))"
      ]
    },
    {
      "cell_type": "markdown",
      "metadata": {
        "id": "Z6XhHTnUK1Rb"
      },
      "source": [
        "### Spell check revisited\n",
        "*How could you implement a spell check function using a Trie? Compare its performance to your original ideas about how to implement this function. In terms of complexity analysis, how can you account for the difference?*"
      ]
    },
    {
      "cell_type": "code",
      "execution_count": null,
      "metadata": {
        "id": "TLd0gPl1zOSR"
      },
      "outputs": [],
      "source": []
    },
    {
      "cell_type": "code",
      "execution_count": 51,
      "metadata": {
        "id": "kbAk45n0KTjj"
      },
      "outputs": [
        {
          "name": "stdout",
          "output_type": "stream",
          "text": [
            "person is in the dictionary and spelled correctly.\n"
          ]
        }
      ],
      "source": [
        "# opening the file in read mode\n",
        "file = open(\"1000-most-common-words.txt\", \"r\")\n",
        "\n",
        "# reading each line the file\n",
        "words = file.read().split(\"\\n\")\n",
        "\n",
        "words_to_trie = Trie()\n",
        "\n",
        "for word in words:\n",
        "    words_to_trie.insert(str(word))\n",
        "\n",
        "\n",
        "\n",
        "def spellcheck(word, trie):\n",
        "    return trie.search(word.lower())\n",
        "\n",
        "\n",
        "word_to_check = input(\"type a word\")\n",
        "if spellcheck(word_to_check, words_to_trie):\n",
        "    print(word_to_check,\"is in the dictionary and spelled correctly.\")\n",
        "else:\n",
        "    print(word_to_check,\"is not in the dictionary or is misspelled.\")"
      ]
    },
    {
      "cell_type": "code",
      "execution_count": null,
      "metadata": {},
      "outputs": [],
      "source": []
    }
  ],
  "metadata": {
    "colab": {
      "provenance": []
    },
    "kernelspec": {
      "display_name": "Python 3",
      "name": "python3"
    },
    "language_info": {
      "codemirror_mode": {
        "name": "ipython",
        "version": 3
      },
      "file_extension": ".py",
      "mimetype": "text/x-python",
      "name": "python",
      "nbconvert_exporter": "python",
      "pygments_lexer": "ipython3",
      "version": "3.9.6"
    }
  },
  "nbformat": 4,
  "nbformat_minor": 0
}
