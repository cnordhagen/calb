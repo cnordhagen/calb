{
  "nbformat": 4,
  "nbformat_minor": 0,
  "metadata": {
    "colab": {
      "provenance": []
    },
    "kernelspec": {
      "name": "python3",
      "display_name": "Python 3"
    },
    "language_info": {
      "name": "python"
    }
  },
  "cells": [
    {
      "cell_type": "markdown",
      "source": [
        "### Thought experiment:\n",
        "*How would you implement a spell check function?*"
      ],
      "metadata": {
        "id": "ASMjLrYHKdrD"
      }
    },
    {
      "cell_type": "code",
      "source": [
        "..."
      ],
      "metadata": {
        "id": "jBz8HtOVKmWe"
      },
      "execution_count": null,
      "outputs": []
    },
    {
      "cell_type": "markdown",
      "source": [
        "# Tries:\n",
        "\n",
        "- unbounded tree\n",
        "- paths are significant, and used for **word/prefix validation**\n",
        "- each node contains a character as well as a boolean variable indicating whether that character represents the end of a complete word (rather than just a prefix)\n",
        "- **prefix:** a path in the Trie with one or more possible word-endings\n",
        "\n",
        "[5 min video overview of the basic ideas](https://youtu.be/zIjfhVPRZCg?si=bkxW74HCdObv5C7g)\n",
        "\n",
        "### To do:\n",
        "- *Add comments or a docstring to the insert method, explaining how the code works.*\n",
        "- *Then finish implementing search and starts_with methods.*\n",
        "- *Come up with your own word-validation function that uses Tries.*"
      ],
      "metadata": {
        "id": "u82sNSItvr4x"
      }
    },
    {
      "cell_type": "code",
      "source": [
        "class TrieNode:\n",
        "    def __init__(self):\n",
        "        # characters are stored as keys in a dictionary (value is a TrieNode)\n",
        "        self.children = {}\n",
        "        self.is_complete = False\n",
        "\n",
        "class Trie:\n",
        "    def __init__(self):\n",
        "        self.root = TrieNode()\n",
        "\n",
        "    def insert(self, word):\n",
        "        current = self.root\n",
        "        for char in word:\n",
        "            if char not in current.children:\n",
        "                current.children[char] = TrieNode()\n",
        "            current = current.children[char]\n",
        "        current.is_complete = True\n",
        "\n",
        "    def search(self, word):\n",
        "        current = self.root\n",
        "\n",
        "        # for each character, check whether a path exists\n",
        "        for char in word:\n",
        "            if ...:\n",
        "                return ...\n",
        "\n",
        "            # update current to be the node mapped to char in children\n",
        "            current = ...\n",
        "\n",
        "        # return True if the word has been found *and* is complete\n",
        "        return ...\n",
        "\n",
        "    def starts_with(self, prefix):\n",
        "        ..."
      ],
      "metadata": {
        "id": "-Qma3E72x74q"
      },
      "execution_count": null,
      "outputs": []
    },
    {
      "cell_type": "code",
      "source": [
        "trie = Trie()\n",
        "trie.insert(\"apple\")\n",
        "trie.insert(\"banana\")\n",
        "trie.insert(\"oranges\")\n",
        "\n",
        "assert(trie.search(\"apple\"))\n",
        "assert(trie.search(\"banana\"))\n",
        "assert(trie.search(\"oranges\"))\n",
        "assert(not trie.search(\"grapefruit\"))\n",
        "assert(trie.starts_with(\"app\"))\n",
        "assert(trie.starts_with(\"ban\"))\n",
        "assert(trie.starts_with(\"ora\"))\n",
        "assert(not trie.starts_with(\"grape\"))"
      ],
      "metadata": {
        "id": "JiuOQEl1uDl7"
      },
      "execution_count": null,
      "outputs": []
    },
    {
      "cell_type": "markdown",
      "source": [
        "### Spell check revisited\n",
        "*How could you implement a spell check function using a Trie? Compare its performance to your original ideas about how to implement this function. In terms of complexity analysis, how can you account for the difference?*"
      ],
      "metadata": {
        "id": "Z6XhHTnUK1Rb"
      }
    },
    {
      "cell_type": "code",
      "source": [
        "..."
      ],
      "metadata": {
        "id": "TLd0gPl1zOSR"
      },
      "execution_count": null,
      "outputs": []
    },
    {
      "cell_type": "code",
      "source": [
        "# opening the file in read mode\n",
        "file = open(\"1000-most-common-words.txt\", \"r\")\n",
        "\n",
        "# reading each line the file\n",
        "words = file.read().split(\"/n\")\n",
        "\n",
        "words_to_trie = Trie()\n",
        "\n",
        "for word in words:\n",
        "    words_to_trie.insert(word)\n",
        "\n",
        "file.close()"
      ],
      "metadata": {
        "id": "kbAk45n0KTjj"
      },
      "execution_count": null,
      "outputs": []
    }
  ]
}